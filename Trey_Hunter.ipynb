{
 "cells": [
  {
   "cell_type": "markdown",
   "id": "eda8055e",
   "metadata": {},
   "source": [
    "# Comparing pathlib and os.path the right way"
   ]
  },
  {
   "cell_type": "code",
   "execution_count": 4,
   "id": "2157ef2f",
   "metadata": {},
   "outputs": [],
   "source": [
    "import os\n",
    "from os import path\n",
    "from pathlib import Path"
   ]
  },
  {
   "cell_type": "code",
   "execution_count": 5,
   "id": "3c36c049",
   "metadata": {},
   "outputs": [
    {
     "ename": "FileNotFoundError",
     "evalue": "[Errno 2] No such file or directory: '.editorconfig' -> 'src/.editorconfig'",
     "output_type": "error",
     "traceback": [
      "\u001b[0;31m---------------------------------------------------------------------------\u001b[0m",
      "\u001b[0;31mFileNotFoundError\u001b[0m                         Traceback (most recent call last)",
      "\u001b[0;32m<ipython-input-5-ee78c0b2e07e>\u001b[0m in \u001b[0;36m<module>\u001b[0;34m\u001b[0m\n\u001b[1;32m      1\u001b[0m \u001b[0mos\u001b[0m\u001b[0;34m.\u001b[0m\u001b[0mmakedirs\u001b[0m\u001b[0;34m(\u001b[0m\u001b[0mos\u001b[0m\u001b[0;34m.\u001b[0m\u001b[0mpath\u001b[0m\u001b[0;34m.\u001b[0m\u001b[0mjoin\u001b[0m\u001b[0;34m(\u001b[0m\u001b[0;34m'src'\u001b[0m\u001b[0;34m,\u001b[0m \u001b[0;34m'__pypackages__'\u001b[0m\u001b[0;34m)\u001b[0m\u001b[0;34m,\u001b[0m \u001b[0mexist_ok\u001b[0m\u001b[0;34m=\u001b[0m\u001b[0;32mTrue\u001b[0m\u001b[0;34m)\u001b[0m\u001b[0;34m\u001b[0m\u001b[0;34m\u001b[0m\u001b[0m\n\u001b[0;32m----> 2\u001b[0;31m \u001b[0mos\u001b[0m\u001b[0;34m.\u001b[0m\u001b[0mrename\u001b[0m\u001b[0;34m(\u001b[0m\u001b[0;34m'.editorconfig'\u001b[0m\u001b[0;34m,\u001b[0m \u001b[0mos\u001b[0m\u001b[0;34m.\u001b[0m\u001b[0mpath\u001b[0m\u001b[0;34m.\u001b[0m\u001b[0mjoin\u001b[0m\u001b[0;34m(\u001b[0m\u001b[0;34m'src'\u001b[0m\u001b[0;34m,\u001b[0m \u001b[0;34m'.editorconfig'\u001b[0m\u001b[0;34m)\u001b[0m\u001b[0;34m)\u001b[0m\u001b[0;34m\u001b[0m\u001b[0;34m\u001b[0m\u001b[0m\n\u001b[0m",
      "\u001b[0;31mFileNotFoundError\u001b[0m: [Errno 2] No such file or directory: '.editorconfig' -> 'src/.editorconfig'"
     ]
    }
   ],
   "source": [
    "os.makedirs(os.path.join('src', '__pypackages__'), exist_ok=True)\n",
    "os.rename('.editorconfig', os.path.join('src', '.editorconfig'))"
   ]
  },
  {
   "cell_type": "code",
   "execution_count": 6,
   "id": "6d3b91c6",
   "metadata": {},
   "outputs": [
    {
     "ename": "FileNotFoundError",
     "evalue": "[Errno 2] No such file or directory: '.editorconfig' -> 'src/.editorconfig'",
     "output_type": "error",
     "traceback": [
      "\u001b[0;31m---------------------------------------------------------------------------\u001b[0m",
      "\u001b[0;31mFileNotFoundError\u001b[0m                         Traceback (most recent call last)",
      "\u001b[0;32m<ipython-input-6-d1db8fc36f59>\u001b[0m in \u001b[0;36m<module>\u001b[0;34m\u001b[0m\n\u001b[1;32m      1\u001b[0m \u001b[0;32mfrom\u001b[0m \u001b[0mpathlib\u001b[0m \u001b[0;32mimport\u001b[0m \u001b[0mPath\u001b[0m\u001b[0;34m\u001b[0m\u001b[0;34m\u001b[0m\u001b[0m\n\u001b[1;32m      2\u001b[0m \u001b[0mPath\u001b[0m\u001b[0;34m(\u001b[0m\u001b[0;34m'src/__pypackages__'\u001b[0m\u001b[0;34m)\u001b[0m\u001b[0;34m.\u001b[0m\u001b[0mmkdir\u001b[0m\u001b[0;34m(\u001b[0m\u001b[0mparents\u001b[0m\u001b[0;34m=\u001b[0m\u001b[0;32mTrue\u001b[0m\u001b[0;34m,\u001b[0m \u001b[0mexist_ok\u001b[0m\u001b[0;34m=\u001b[0m\u001b[0;32mTrue\u001b[0m\u001b[0;34m)\u001b[0m\u001b[0;34m\u001b[0m\u001b[0;34m\u001b[0m\u001b[0m\n\u001b[0;32m----> 3\u001b[0;31m \u001b[0mPath\u001b[0m\u001b[0;34m(\u001b[0m\u001b[0;34m'.editorconfig'\u001b[0m\u001b[0;34m)\u001b[0m\u001b[0;34m.\u001b[0m\u001b[0mrename\u001b[0m\u001b[0;34m(\u001b[0m\u001b[0;34m'src/.editorconfig'\u001b[0m\u001b[0;34m)\u001b[0m\u001b[0;34m\u001b[0m\u001b[0;34m\u001b[0m\u001b[0m\n\u001b[0m",
      "\u001b[0;32m/usr/lib64/python3.9/pathlib.py\u001b[0m in \u001b[0;36mrename\u001b[0;34m(self, target)\u001b[0m\n\u001b[1;32m   1380\u001b[0m         \u001b[0mReturns\u001b[0m \u001b[0mthe\u001b[0m \u001b[0mnew\u001b[0m \u001b[0mPath\u001b[0m \u001b[0minstance\u001b[0m \u001b[0mpointing\u001b[0m \u001b[0mto\u001b[0m \u001b[0mthe\u001b[0m \u001b[0mtarget\u001b[0m \u001b[0mpath\u001b[0m\u001b[0;34m.\u001b[0m\u001b[0;34m\u001b[0m\u001b[0;34m\u001b[0m\u001b[0m\n\u001b[1;32m   1381\u001b[0m         \"\"\"\n\u001b[0;32m-> 1382\u001b[0;31m         \u001b[0mself\u001b[0m\u001b[0;34m.\u001b[0m\u001b[0m_accessor\u001b[0m\u001b[0;34m.\u001b[0m\u001b[0mrename\u001b[0m\u001b[0;34m(\u001b[0m\u001b[0mself\u001b[0m\u001b[0;34m,\u001b[0m \u001b[0mtarget\u001b[0m\u001b[0;34m)\u001b[0m\u001b[0;34m\u001b[0m\u001b[0;34m\u001b[0m\u001b[0m\n\u001b[0m\u001b[1;32m   1383\u001b[0m         \u001b[0;32mreturn\u001b[0m \u001b[0mself\u001b[0m\u001b[0;34m.\u001b[0m\u001b[0m__class__\u001b[0m\u001b[0;34m(\u001b[0m\u001b[0mtarget\u001b[0m\u001b[0;34m)\u001b[0m\u001b[0;34m\u001b[0m\u001b[0;34m\u001b[0m\u001b[0m\n\u001b[1;32m   1384\u001b[0m \u001b[0;34m\u001b[0m\u001b[0m\n",
      "\u001b[0;31mFileNotFoundError\u001b[0m: [Errno 2] No such file or directory: '.editorconfig' -> 'src/.editorconfig'"
     ]
    }
   ],
   "source": [
    "from pathlib import Path\n",
    "Path('src/__pypackages__').mkdir(parents=True, exist_ok=True)\n",
    "Path('.editorconfig').rename('src/.editorconfig')"
   ]
  },
  {
   "cell_type": "markdown",
   "id": "6d5799a8",
   "metadata": {},
   "source": [
    "# `DICT` sort in PY\n",
    "- `sorted` function always returns the list `[]`"
   ]
  },
  {
   "cell_type": "code",
   "execution_count": 10,
   "id": "63030eb3",
   "metadata": {},
   "outputs": [
    {
     "data": {
      "text/plain": [
       "{'Pink': 'Rm 403', 'Space': 'Rm 201', 'Quail': 'Rm 500', 'Lime': 'Rm 503'}"
      ]
     },
     "execution_count": 10,
     "metadata": {},
     "output_type": "execute_result"
    }
   ],
   "source": [
    " rooms = {\"Pink\": \"Rm 403\", \"Space\": \"Rm 201\", \"Quail\": \"Rm 500\", \"Lime\": \"Rm 503\"}\n",
    "    \n",
    "rooms"
   ]
  },
  {
   "cell_type": "code",
   "execution_count": 12,
   "id": "41aa1d7c",
   "metadata": {},
   "outputs": [
    {
     "data": {
      "text/plain": [
       "dict_items([('Pink', 'Rm 403'), ('Space', 'Rm 201'), ('Quail', 'Rm 500'), ('Lime', 'Rm 503')])"
      ]
     },
     "execution_count": 12,
     "metadata": {},
     "output_type": "execute_result"
    }
   ],
   "source": [
    "rooms.items()"
   ]
  },
  {
   "cell_type": "code",
   "execution_count": 13,
   "id": "530a91fc",
   "metadata": {},
   "outputs": [
    {
     "data": {
      "text/plain": [
       "[('Lime', 'Rm 503'),\n",
       " ('Pink', 'Rm 403'),\n",
       " ('Quail', 'Rm 500'),\n",
       " ('Space', 'Rm 201')]"
      ]
     },
     "execution_count": 13,
     "metadata": {},
     "output_type": "execute_result"
    }
   ],
   "source": [
    "sorted(rooms.items())"
   ]
  },
  {
   "cell_type": "code",
   "execution_count": 15,
   "id": "6a2c6998",
   "metadata": {},
   "outputs": [
    {
     "data": {
      "text/plain": [
       "{'Lime': 'Rm 503', 'Pink': 'Rm 403', 'Quail': 'Rm 500', 'Space': 'Rm 201'}"
      ]
     },
     "execution_count": 15,
     "metadata": {},
     "output_type": "execute_result"
    }
   ],
   "source": [
    "dict([('Lime', 'Rm 503'),\n",
    " ('Pink', 'Rm 403'),\n",
    " ('Quail', 'Rm 500'),\n",
    " ('Space', 'Rm 201')])"
   ]
  },
  {
   "cell_type": "code",
   "execution_count": 16,
   "id": "4c3ddad1",
   "metadata": {},
   "outputs": [],
   "source": [
    "room_to_name = sorted((room, name) for (name, room) in rooms.items())\n"
   ]
  },
  {
   "cell_type": "code",
   "execution_count": 17,
   "id": "660da816",
   "metadata": {},
   "outputs": [
    {
     "data": {
      "text/plain": [
       "[('Rm 201', 'Space'),\n",
       " ('Rm 403', 'Pink'),\n",
       " ('Rm 500', 'Quail'),\n",
       " ('Rm 503', 'Lime')]"
      ]
     },
     "execution_count": 17,
     "metadata": {},
     "output_type": "execute_result"
    }
   ],
   "source": [
    "room_to_name"
   ]
  },
  {
   "cell_type": "code",
   "execution_count": 18,
   "id": "9b39da89",
   "metadata": {},
   "outputs": [],
   "source": [
    "sorted_rooms = { name: room for room, name in room_to_name }"
   ]
  },
  {
   "cell_type": "code",
   "execution_count": 19,
   "id": "6f95ad12",
   "metadata": {},
   "outputs": [
    {
     "data": {
      "text/plain": [
       "{'Space': 'Rm 201', 'Pink': 'Rm 403', 'Quail': 'Rm 500', 'Lime': 'Rm 503'}"
      ]
     },
     "execution_count": 19,
     "metadata": {},
     "output_type": "execute_result"
    }
   ],
   "source": [
    "sorted_rooms"
   ]
  },
  {
   "cell_type": "code",
   "execution_count": 20,
   "id": "5ec0056b",
   "metadata": {},
   "outputs": [
    {
     "data": {
      "text/plain": [
       "{'Space': 'Rm 201', 'Pink': 'Rm 403', 'Quail': 'Rm 500', 'Lime': 'Rm 503'}"
      ]
     },
     "execution_count": 20,
     "metadata": {},
     "output_type": "execute_result"
    }
   ],
   "source": [
    "sorted_rooms"
   ]
  },
  {
   "cell_type": "code",
   "execution_count": 23,
   "id": "370b9049",
   "metadata": {},
   "outputs": [],
   "source": [
    "def by_room_number(item):\n",
    "    name, room = item\n",
    "    room_prefix, room_number = room.split()\n",
    "    return int(room_number)"
   ]
  },
  {
   "cell_type": "code",
   "execution_count": 24,
   "id": "ec3803b4",
   "metadata": {},
   "outputs": [
    {
     "data": {
      "text/plain": [
       "201"
      ]
     },
     "execution_count": 24,
     "metadata": {},
     "output_type": "execute_result"
    }
   ],
   "source": [
    "by_room_number(('sp|ace', 'Rm 201'))"
   ]
  },
  {
   "cell_type": "code",
   "execution_count": 26,
   "id": "26b55b14",
   "metadata": {},
   "outputs": [],
   "source": [
    "sorted_rooms = dict(sorted(rooms.items(), key=by_room_number))"
   ]
  },
  {
   "cell_type": "code",
   "execution_count": 27,
   "id": "32423675",
   "metadata": {},
   "outputs": [
    {
     "data": {
      "text/plain": [
       "{'Space': 'Rm 201', 'Pink': 'Rm 403', 'Quail': 'Rm 500', 'Lime': 'Rm 503'}"
      ]
     },
     "execution_count": 27,
     "metadata": {},
     "output_type": "execute_result"
    }
   ],
   "source": [
    "sorted_rooms"
   ]
  },
  {
   "cell_type": "markdown",
   "id": "265572b3",
   "metadata": {},
   "source": [
    "# Flatten the list in PY"
   ]
  },
  {
   "cell_type": "code",
   "execution_count": 29,
   "id": "72c7bdec",
   "metadata": {},
   "outputs": [
    {
     "data": {
      "text/plain": [
       "[['Hong', 'Ryan'], ['Anthony', 'Wilhelmina'], ['Margaret', 'Adrian']]"
      ]
     },
     "execution_count": 29,
     "metadata": {},
     "output_type": "execute_result"
    }
   ],
   "source": [
    "groups = [[\"Hong\", \"Ryan\"], [\"Anthony\", \"Wilhelmina\"], [\"Margaret\", \"Adrian\"]]\n",
    "groups"
   ]
  },
  {
   "cell_type": "code",
   "execution_count": 31,
   "id": "511bc3d6",
   "metadata": {},
   "outputs": [
    {
     "data": {
      "text/plain": [
       "['Hong', 'Ryan', 'Anthony', 'Wilhelmina', 'Margaret', 'Adrian']"
      ]
     },
     "execution_count": 31,
     "metadata": {},
     "output_type": "execute_result"
    }
   ],
   "source": [
    "names = [ name for group in groups for name in group]\n",
    "names"
   ]
  },
  {
   "cell_type": "code",
   "execution_count": 33,
   "id": "b9f16d67",
   "metadata": {},
   "outputs": [
    {
     "data": {
      "text/plain": [
       "['Hong', 'Ryan', 'Anthony', 'Wilhelmina', 'Margaret', 'Adrian']"
      ]
     },
     "execution_count": 33,
     "metadata": {},
     "output_type": "execute_result"
    }
   ],
   "source": [
    "sum(groups, [])"
   ]
  },
  {
   "cell_type": "code",
   "execution_count": 34,
   "id": "8838cbf9",
   "metadata": {},
   "outputs": [],
   "source": [
    "from itertools import chain"
   ]
  },
  {
   "cell_type": "code",
   "execution_count": 35,
   "id": "c81e8fe6",
   "metadata": {},
   "outputs": [
    {
     "data": {
      "text/plain": [
       "['Hong', 'Ryan', 'Anthony', 'Wilhelmina', 'Margaret', 'Adrian']"
      ]
     },
     "execution_count": 35,
     "metadata": {},
     "output_type": "execute_result"
    }
   ],
   "source": [
    "list(chain(*groups))"
   ]
  },
  {
   "cell_type": "code",
   "execution_count": 36,
   "id": "0f4a049a",
   "metadata": {},
   "outputs": [
    {
     "data": {
      "text/plain": [
       "['Hong', 'Ryan', 'Anthony', 'Wilhelmina', 'Margaret', 'Adrian']"
      ]
     },
     "execution_count": 36,
     "metadata": {},
     "output_type": "execute_result"
    }
   ],
   "source": [
    "list(chain.from_iterable(groups))"
   ]
  },
  {
   "cell_type": "markdown",
   "id": "71af3717",
   "metadata": {},
   "source": [
    "# For-ELSE"
   ]
  },
  {
   "cell_type": "code",
   "execution_count": 38,
   "id": "61cf5a43",
   "metadata": {},
   "outputs": [
    {
     "data": {
      "text/plain": [
       "['Hong', 'Ryan', 'Anthony', 'Wilhelmina', 'Margaret', 'Adrian']"
      ]
     },
     "execution_count": 38,
     "metadata": {},
     "output_type": "execute_result"
    }
   ],
   "source": [
    "list(chain.from_iterable(groups))"
   ]
  },
  {
   "cell_type": "code",
   "execution_count": null,
   "id": "e9768abd",
   "metadata": {},
   "outputs": [],
   "source": []
  }
 ],
 "metadata": {
  "kernelspec": {
   "display_name": "Python 3",
   "language": "python",
   "name": "python3"
  },
  "language_info": {
   "codemirror_mode": {
    "name": "ipython",
    "version": 3
   },
   "file_extension": ".py",
   "mimetype": "text/x-python",
   "name": "python",
   "nbconvert_exporter": "python",
   "pygments_lexer": "ipython3",
   "version": "3.9.12"
  }
 },
 "nbformat": 4,
 "nbformat_minor": 5
}
